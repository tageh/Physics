{
 "cells": [
  {
   "cell_type": "code",
   "execution_count": 1,
   "id": "herbal-proposal",
   "metadata": {},
   "outputs": [],
   "source": [
    "import numpy as np\n",
    "import matplotlib.pyplot as plt"
   ]
  },
  {
   "cell_type": "code",
   "execution_count": 16,
   "id": "pediatric-sheep",
   "metadata": {},
   "outputs": [],
   "source": [
    "x = 0\n",
    "y = 0\n",
    "th0 = 60*np.pi/180\n",
    "th0l = 45*np.pi/180 # luft 45\n",
    "v0 = 73 #hastighet\n",
    "ax = 0 #akselasjon i x\n",
    "ay = -9.81 #akslerasjon i y\n",
    "Yground = 0 #høyde over bakken\n",
    "tSteg = 0.001 #tid mellom hvert steg\n",
    "tidsrom = 13 #tiden vi følger kastet\n",
    "totSteg = int(tidsrom/tSteg)\n",
    "m = 2 \n",
    "D = 1.4*10**(-3)\n"
   ]
  },
  {
   "cell_type": "code",
   "execution_count": 17,
   "id": "special-aging",
   "metadata": {},
   "outputs": [],
   "source": [
    "vx = v0*np.cos(th0)\n",
    "vy = v0*np.sin(th0)\n",
    "\n",
    "vxl = v0*np.cos(th0l)\n",
    "vyl = v0*np.sin(th0l)\n",
    "\n",
    "axl = (-D*(vxl**2 + vyl**2)*np.cos(th0l))/m\n",
    "ayl = -9.81 +(-D*(vxl**2 + vyl**2)*np.sin(th0l))/m"
   ]
  },
  {
   "cell_type": "code",
   "execution_count": 18,
   "id": "adjusted-active",
   "metadata": {},
   "outputs": [
    {
     "name": "stdout",
     "output_type": "stream",
     "text": [
      "Utgangshastighet i x retning: 36.50000000000001 m/s\n",
      "Utgangshastighet i y retning: 63.21985447626402 m/s\n"
     ]
    }
   ],
   "source": [
    "print(\"Utgangshastighet i x retning: {} m/s\".format(vx))\n",
    "print(\"Utgangshastighet i y retning: {} m/s\".format(vy))"
   ]
  },
  {
   "cell_type": "code",
   "execution_count": 19,
   "id": "advance-reform",
   "metadata": {},
   "outputs": [],
   "source": [
    "xPos = np.zeros(totSteg)\n",
    "yPos = np.zeros(totSteg)\n",
    "\n",
    "xlPos = np.zeros(totSteg)\n",
    "ylPos = np.zeros(totSteg)"
   ]
  },
  {
   "cell_type": "code",
   "execution_count": 20,
   "id": "manual-majority",
   "metadata": {},
   "outputs": [],
   "source": [
    "xPos[0] = x\n",
    "yPos[0] = y\n",
    "\n",
    "xlPos[0] = x\n",
    "ylPos[0] = y"
   ]
  },
  {
   "cell_type": "code",
   "execution_count": 21,
   "id": "professional-shareware",
   "metadata": {},
   "outputs": [],
   "source": [
    "for i in range(1,totSteg):\n",
    "\n",
    "    axl = (-D*(vxl**2 + vyl**2)*np.cos(th0l))/m\n",
    "    ayl = -9.81 +(-D*(vxl**2 + vyl**2)*np.sin(th0l))/m\n",
    "\n",
    "    vxl = vxl + axl*tSteg\n",
    "    vyl = vyl + ayl*tSteg\n",
    "\n",
    "    xlPos[i] = xlPos[i-1] + vxl*tSteg\n",
    "    ylPos[i] = ylPos[i-1] + vyl*tSteg\n",
    "\n",
    "    ax = 0\n",
    "    ay = -9.81\n",
    "\n",
    "    vx = vx + ax*tSteg\n",
    "    vy = vy + ay*tSteg\n",
    "\n",
    "    xPos[i] = xPos[i-1] + vx*tSteg\n",
    "    yPos[i] = yPos[i-1] + vy*tSteg"
   ]
  },
  {
   "cell_type": "code",
   "execution_count": 22,
   "id": "immediate-collector",
   "metadata": {
    "scrolled": true
   },
   "outputs": [
    {
     "data": {
      "image/png": "[encoded data removed]",
      "text/plain": [
       "<Figure size 432x288 with 1 Axes>"
      ]
     },
     "metadata": {
      "needs_background": "light"
     },
     "output_type": "display_data"
    },
    {
     "name": "stdout",
     "output_type": "stream",
     "text": [
      "Maksimal oppnådd høyde: 203.67634234501344 m\n",
      "Maksimal avstand før den treffer bakken: [470.412] m\n",
      "Maksimal avstand før den treffer bakken med luftmotstand: [408.44368795] m\n",
      "Vinkel luftmotstand: 45.0\n",
      "Vinkel uten luftmotstand: 59.99999999999999\n"
     ]
    }
   ],
   "source": [
    "plt.plot(xPos,yPos, label=\"uten luftmotstand\")\n",
    "plt.plot(xlPos, ylPos, label=\"med luftmotstand\")\n",
    "\n",
    "plt.grid()\n",
    "plt.title(\"time: {} s\".format(tidsrom))\n",
    "plt.ylabel(\"y [m]\")\n",
    "plt.xlabel(\"x [m]\")\n",
    "plt.ylim(0,250)\n",
    "plt.legend()\n",
    "plt.show()\n",
    "\n",
    "print(\"Maksimal oppnådd høyde: {} m\".format(max(yPos)))\n",
    "\n",
    "diffy = np.abs(yPos - Yground)\n",
    "diffyl = np.abs(ylPos - Yground)\n",
    "\n",
    "landingindex = np.where(diffy == min(diffy[2:]))\n",
    "landingindexl = np.where(diffyl == min(diffyl[2:]))\n",
    "\n",
    "MaksAvstand = xPos[landingindex]\n",
    "MaksAvstandl = xlPos[landingindexl]\n",
    "\n",
    "print(\"Maksimal avstand før den treffer bakken: {} m\".format(MaksAvstand))\n",
    "print(\"Maksimal avstand før den treffer bakken med luftmotstand: {} m\".format(MaksAvstandl))\n",
    "print(\"Vinkel luftmotstand: {}\".format(th0l*180/np.pi))\n",
    "print(\"Vinkel uten luftmotstand: {}\".format(th0*180/np.pi))"
   ]
  },
  {
   "cell_type": "code",
   "execution_count": null,
   "id": "classical-mouse",
   "metadata": {},
   "outputs": [],
   "source": [
    " "
   ]
  }
 ],
 "metadata": {
  "kernelspec": {
   "display_name": "Python 3",
   "language": "python",
   "name": "python3"
  },
  "language_info": {
   "codemirror_mode": {
    "name": "ipython",
    "version": 3
   },
   "file_extension": ".py",
   "mimetype": "text/x-python",
   "name": "python",
   "nbconvert_exporter": "python",
   "pygments_lexer": "ipython3",
   "version": "3.9.1"
  }
 },
 "nbformat": 4,
 "nbformat_minor": 5
}
