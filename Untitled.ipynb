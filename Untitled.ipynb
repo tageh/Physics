{
 "cells": [
  {
   "cell_type": "code",
   "execution_count": 4,
   "id": "moved-acrylic",
   "metadata": {},
   "outputs": [
    {
     "name": "stdout",
     "output_type": "stream",
     "text": [
      "Utgangshastighet i x retning: 51.618795026617974 m/s\n",
      "Utgangshastighet i y retning: 51.61879502661797 m/s\n"
     ]
    },
    {
     "data": {
      "image/png": "[encoded data removed]",
      "text/plain": [
       "<Figure size 432x288 with 1 Axes>"
      ]
     },
     "metadata": {
      "needs_background": "light"
     },
     "output_type": "display_data"
    },
    {
     "name": "stdout",
     "output_type": "stream",
     "text": [
      "Maksimal oppnådd høyde: 135.77949192501663 m\n",
      "Maksimal avstand før den treffer bakken: [543.18458007] m\n",
      "Maksimal avstand før den treffer bakken med luftmotstand: [337.36063671] m\n",
      "Vinkel luftmotstand: 45.0\n"
     ]
    }
   ],
   "source": [
    "import numpy as np\n",
    "import matplotlib.pyplot as plt\n",
    "\n",
    "\n",
    "x = 0\n",
    "y = 0\n",
    "th0 = 45*np.pi/180\n",
    "th0l = 45*np.pi/180\n",
    "v0 = 73 #hastighet\n",
    "ax = 0 #akselasjon i x\n",
    "ay = -9.81 #akslerasjon i y\n",
    "Yground = 0 #høyde over bakken\n",
    "tSteg = 0.001 #tid mellom hvert steg\n",
    "tidsrom = 15 #tiden vi følger kastet\n",
    "totSteg = int(tidsrom/tSteg)\n",
    "m = 2.0\n",
    "D = 1.4*10**-3\n",
    "\n",
    "\n",
    "# In[448]:\n",
    "\n",
    "\n",
    "vx = v0*np.cos(th0)\n",
    "vy = v0*np.sin(th0)\n",
    "\n",
    "vxl = v0*np.cos(th0l)\n",
    "vyl = v0*np.sin(th0l)\n",
    "\n",
    "axl = (-D * (vxl**2 + vyl**2)*np.cos(th0)) / m\n",
    "ayl = -9.81 + (-D * (vxl**2 + vyl**2)*np.sin(th0)) / m\n",
    "\n",
    "print(\"Utgangshastighet i x retning: {} m/s\".format(vx))\n",
    "print(\"Utgangshastighet i y retning: {} m/s\".format(vy))\n",
    "\n",
    "xPos = np.zeros(totSteg)\n",
    "yPos = np.zeros(totSteg)\n",
    "\n",
    "xlPos = np.zeros(totSteg)\n",
    "ylPos = np.zeros(totSteg)\n",
    "\n",
    "\n",
    "xPos[0] = x\n",
    "yPos[0] = y\n",
    "\n",
    "xlPos[0] = x\n",
    "ylPos[0] = y\n",
    "\n",
    "for i in range(1,totSteg):\n",
    "\n",
    "    vxl = vxl + axl*tSteg\n",
    "    vyl = vyl + ayl*tSteg\n",
    "    xlPos[i] = xlPos[i-1] + vxl*tSteg\n",
    "    ylPos[i] = ylPos[i-1] + vyl*tSteg\n",
    "\n",
    "    vx = vx + ax*tSteg\n",
    "    vy = vy + ay*tSteg\n",
    "    xPos[i] = xPos[i-1] + vx*tSteg\n",
    "    yPos[i] = yPos[i-1] + vy*tSteg\n",
    "\n",
    "\n",
    "plt.plot(xPos,yPos, label=\"uten luftmotstand\")\n",
    "plt.plot(xlPos, ylPos, label=\"med luftmotstand\")\n",
    "\n",
    "plt.grid()\n",
    "plt.title(\"time: {} s\".format(tidsrom))\n",
    "plt.ylabel(\"y [m]\")\n",
    "plt.xlabel(\"x [m]\")\n",
    "plt.ylim(0,250)\n",
    "plt.legend()\n",
    "plt.show()\n",
    "\n",
    "print(\"Maksimal oppnådd høyde: {} m\".format(max(yPos)))\n",
    "\n",
    "diffy = np.abs(yPos - Yground)\n",
    "diffyl = np.abs(ylPos - Yground)\n",
    "\n",
    "landingindex = np.where(diffy == min(diffy[2:]))\n",
    "landingindexl = np.where(diffyl == min(diffyl[2:]))\n",
    "\n",
    "MaksAvstand = xPos[landingindex]\n",
    "MaksAvstandl = xlPos[landingindexl]\n",
    "\n",
    "print(\"Maksimal avstand før den treffer bakken: {} m\".format(MaksAvstand))\n",
    "print(\"Maksimal avstand før den treffer bakken med luftmotstand: {} m\".format(MaksAvstandl))\n",
    "print(\"Vinkel luftmotstand: {}\".format(th0l*180/np.pi))"
   ]
  }
 ],
 "metadata": {
  "kernelspec": {
   "display_name": "Python 3",
   "language": "python",
   "name": "python3"
  },
  "language_info": {
   "codemirror_mode": {
    "name": "ipython",
    "version": 3
   },
   "file_extension": ".py",
   "mimetype": "text/x-python",
   "name": "python",
   "nbconvert_exporter": "python",
   "pygments_lexer": "ipython3",
   "version": "3.9.1"
  }
 },
 "nbformat": 4,
 "nbformat_minor": 5
}
